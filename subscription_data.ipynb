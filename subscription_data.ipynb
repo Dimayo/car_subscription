{
 "cells": [
  {
   "cell_type": "markdown",
   "id": "7258b969",
   "metadata": {},
   "source": [
    "## Data loading"
   ]
  },
  {
   "cell_type": "code",
   "execution_count": 44,
   "id": "959e366b",
   "metadata": {},
   "outputs": [],
   "source": [
    "import pandas as pd\n",
    "import matplotlib.pyplot as plt\n",
    "import pickle\n",
    "from matplotlib.ticker import FormatStrFormatter\n",
    "from scipy import stats"
   ]
  },
  {
   "cell_type": "code",
   "execution_count": 2,
   "id": "639efec5",
   "metadata": {},
   "outputs": [],
   "source": [
    "with open('data/ga_hits.pkl', 'rb') as file:\n",
    "      df_hits = pickle.load(file)"
   ]
  },
  {
   "cell_type": "code",
   "execution_count": 3,
   "id": "71379558",
   "metadata": {},
   "outputs": [
    {
     "data": {
      "text/html": [
       "<div>\n",
       "<style scoped>\n",
       "    .dataframe tbody tr th:only-of-type {\n",
       "        vertical-align: middle;\n",
       "    }\n",
       "\n",
       "    .dataframe tbody tr th {\n",
       "        vertical-align: top;\n",
       "    }\n",
       "\n",
       "    .dataframe thead th {\n",
       "        text-align: right;\n",
       "    }\n",
       "</style>\n",
       "<table border=\"1\" class=\"dataframe\">\n",
       "  <thead>\n",
       "    <tr style=\"text-align: right;\">\n",
       "      <th></th>\n",
       "      <th>session_id</th>\n",
       "      <th>hit_date</th>\n",
       "      <th>hit_time</th>\n",
       "      <th>hit_number</th>\n",
       "      <th>hit_type</th>\n",
       "      <th>hit_referer</th>\n",
       "      <th>hit_page_path</th>\n",
       "      <th>event_category</th>\n",
       "      <th>event_action</th>\n",
       "      <th>event_label</th>\n",
       "      <th>event_value</th>\n",
       "    </tr>\n",
       "  </thead>\n",
       "  <tbody>\n",
       "    <tr>\n",
       "      <th>0</th>\n",
       "      <td>5639623078712724064.1640254056.1640254056</td>\n",
       "      <td>2021-12-23</td>\n",
       "      <td>597864.0</td>\n",
       "      <td>30</td>\n",
       "      <td>event</td>\n",
       "      <td>NaN</td>\n",
       "      <td>sberauto.com/cars?utm_source_initial=google&amp;ut...</td>\n",
       "      <td>quiz</td>\n",
       "      <td>quiz_show</td>\n",
       "      <td>NaN</td>\n",
       "      <td>None</td>\n",
       "    </tr>\n",
       "    <tr>\n",
       "      <th>1</th>\n",
       "      <td>7750352294969115059.1640271109.1640271109</td>\n",
       "      <td>2021-12-23</td>\n",
       "      <td>597331.0</td>\n",
       "      <td>41</td>\n",
       "      <td>event</td>\n",
       "      <td>NaN</td>\n",
       "      <td>sberauto.com/cars/fiat?city=1&amp;city=18&amp;rental_c...</td>\n",
       "      <td>quiz</td>\n",
       "      <td>quiz_show</td>\n",
       "      <td>NaN</td>\n",
       "      <td>None</td>\n",
       "    </tr>\n",
       "    <tr>\n",
       "      <th>2</th>\n",
       "      <td>885342191847998240.1640235807.1640235807</td>\n",
       "      <td>2021-12-23</td>\n",
       "      <td>796252.0</td>\n",
       "      <td>49</td>\n",
       "      <td>event</td>\n",
       "      <td>NaN</td>\n",
       "      <td>sberauto.com/cars/all/volkswagen/polo/e994838f...</td>\n",
       "      <td>quiz</td>\n",
       "      <td>quiz_show</td>\n",
       "      <td>NaN</td>\n",
       "      <td>None</td>\n",
       "    </tr>\n",
       "    <tr>\n",
       "      <th>3</th>\n",
       "      <td>142526202120934167.1640211014.1640211014</td>\n",
       "      <td>2021-12-23</td>\n",
       "      <td>934292.0</td>\n",
       "      <td>46</td>\n",
       "      <td>event</td>\n",
       "      <td>NaN</td>\n",
       "      <td>sberauto.com/cars?utm_source_initial=yandex&amp;ut...</td>\n",
       "      <td>quiz</td>\n",
       "      <td>quiz_show</td>\n",
       "      <td>NaN</td>\n",
       "      <td>None</td>\n",
       "    </tr>\n",
       "    <tr>\n",
       "      <th>4</th>\n",
       "      <td>3450086108837475701.1640265078.1640265078</td>\n",
       "      <td>2021-12-23</td>\n",
       "      <td>768741.0</td>\n",
       "      <td>79</td>\n",
       "      <td>event</td>\n",
       "      <td>NaN</td>\n",
       "      <td>sberauto.com/cars/all/mercedes-benz/cla-klasse...</td>\n",
       "      <td>quiz</td>\n",
       "      <td>quiz_show</td>\n",
       "      <td>NaN</td>\n",
       "      <td>None</td>\n",
       "    </tr>\n",
       "  </tbody>\n",
       "</table>\n",
       "</div>"
      ],
      "text/plain": [
       "                                  session_id    hit_date  hit_time  \\\n",
       "0  5639623078712724064.1640254056.1640254056  2021-12-23  597864.0   \n",
       "1  7750352294969115059.1640271109.1640271109  2021-12-23  597331.0   \n",
       "2   885342191847998240.1640235807.1640235807  2021-12-23  796252.0   \n",
       "3   142526202120934167.1640211014.1640211014  2021-12-23  934292.0   \n",
       "4  3450086108837475701.1640265078.1640265078  2021-12-23  768741.0   \n",
       "\n",
       "   hit_number hit_type hit_referer  \\\n",
       "0          30    event         NaN   \n",
       "1          41    event         NaN   \n",
       "2          49    event         NaN   \n",
       "3          46    event         NaN   \n",
       "4          79    event         NaN   \n",
       "\n",
       "                                       hit_page_path event_category  \\\n",
       "0  sberauto.com/cars?utm_source_initial=google&ut...           quiz   \n",
       "1  sberauto.com/cars/fiat?city=1&city=18&rental_c...           quiz   \n",
       "2  sberauto.com/cars/all/volkswagen/polo/e994838f...           quiz   \n",
       "3  sberauto.com/cars?utm_source_initial=yandex&ut...           quiz   \n",
       "4  sberauto.com/cars/all/mercedes-benz/cla-klasse...           quiz   \n",
       "\n",
       "  event_action event_label event_value  \n",
       "0    quiz_show         NaN        None  \n",
       "1    quiz_show         NaN        None  \n",
       "2    quiz_show         NaN        None  \n",
       "3    quiz_show         NaN        None  \n",
       "4    quiz_show         NaN        None  "
      ]
     },
     "execution_count": 3,
     "metadata": {},
     "output_type": "execute_result"
    }
   ],
   "source": [
    "df_hits.head()"
   ]
  },
  {
   "cell_type": "code",
   "execution_count": 4,
   "id": "4aefab58",
   "metadata": {},
   "outputs": [
    {
     "data": {
      "text/plain": [
       "(15726470, 11)"
      ]
     },
     "execution_count": 4,
     "metadata": {},
     "output_type": "execute_result"
    }
   ],
   "source": [
    "df_hits.shape"
   ]
  },
  {
   "cell_type": "code",
   "execution_count": 5,
   "id": "60212b8d",
   "metadata": {},
   "outputs": [
    {
     "name": "stdout",
     "output_type": "stream",
     "text": [
      "<class 'pandas.core.frame.DataFrame'>\n",
      "RangeIndex: 15726470 entries, 0 to 15726469\n",
      "Data columns (total 11 columns):\n",
      " #   Column          Dtype  \n",
      "---  ------          -----  \n",
      " 0   session_id      object \n",
      " 1   hit_date        object \n",
      " 2   hit_time        float64\n",
      " 3   hit_number      int64  \n",
      " 4   hit_type        object \n",
      " 5   hit_referer     object \n",
      " 6   hit_page_path   object \n",
      " 7   event_category  object \n",
      " 8   event_action    object \n",
      " 9   event_label     object \n",
      " 10  event_value     object \n",
      "dtypes: float64(1), int64(1), object(9)\n",
      "memory usage: 1.3+ GB\n"
     ]
    }
   ],
   "source": [
    "df_hits.info()"
   ]
  },
  {
   "cell_type": "code",
   "execution_count": 6,
   "id": "51ebeb5d",
   "metadata": {},
   "outputs": [],
   "source": [
    "with open('data/ga_sessions.pkl', 'rb') as file:\n",
    "      df_sessions = pickle.load(file,encoding='ASCII')"
   ]
  },
  {
   "cell_type": "code",
   "execution_count": 7,
   "id": "e4ec3d27",
   "metadata": {},
   "outputs": [
    {
     "data": {
      "text/html": [
       "<div>\n",
       "<style scoped>\n",
       "    .dataframe tbody tr th:only-of-type {\n",
       "        vertical-align: middle;\n",
       "    }\n",
       "\n",
       "    .dataframe tbody tr th {\n",
       "        vertical-align: top;\n",
       "    }\n",
       "\n",
       "    .dataframe thead th {\n",
       "        text-align: right;\n",
       "    }\n",
       "</style>\n",
       "<table border=\"1\" class=\"dataframe\">\n",
       "  <thead>\n",
       "    <tr style=\"text-align: right;\">\n",
       "      <th></th>\n",
       "      <th>session_id</th>\n",
       "      <th>client_id</th>\n",
       "      <th>visit_date</th>\n",
       "      <th>visit_time</th>\n",
       "      <th>visit_number</th>\n",
       "      <th>utm_source</th>\n",
       "      <th>utm_medium</th>\n",
       "      <th>utm_campaign</th>\n",
       "      <th>utm_adcontent</th>\n",
       "      <th>utm_keyword</th>\n",
       "      <th>device_category</th>\n",
       "      <th>device_os</th>\n",
       "      <th>device_brand</th>\n",
       "      <th>device_model</th>\n",
       "      <th>device_screen_resolution</th>\n",
       "      <th>device_browser</th>\n",
       "      <th>geo_country</th>\n",
       "      <th>geo_city</th>\n",
       "    </tr>\n",
       "  </thead>\n",
       "  <tbody>\n",
       "    <tr>\n",
       "      <th>0</th>\n",
       "      <td>9055434745589932991.1637753792.1637753792</td>\n",
       "      <td>2108382700.1637753791</td>\n",
       "      <td>2021-11-24</td>\n",
       "      <td>14:36:32</td>\n",
       "      <td>1</td>\n",
       "      <td>ZpYIoDJMcFzVoPFsHGJL</td>\n",
       "      <td>banner</td>\n",
       "      <td>LEoPHuyFvzoNfnzGgfcd</td>\n",
       "      <td>vCIpmpaGBnIQhyYNkXqp</td>\n",
       "      <td>puhZPIYqKXeFPaUviSjo</td>\n",
       "      <td>mobile</td>\n",
       "      <td>Android</td>\n",
       "      <td>Huawei</td>\n",
       "      <td>NaN</td>\n",
       "      <td>360x720</td>\n",
       "      <td>Chrome</td>\n",
       "      <td>Russia</td>\n",
       "      <td>Zlatoust</td>\n",
       "    </tr>\n",
       "    <tr>\n",
       "      <th>1</th>\n",
       "      <td>905544597018549464.1636867290.1636867290</td>\n",
       "      <td>210838531.1636867288</td>\n",
       "      <td>2021-11-14</td>\n",
       "      <td>08:21:30</td>\n",
       "      <td>1</td>\n",
       "      <td>MvfHsxITijuriZxsqZqt</td>\n",
       "      <td>cpm</td>\n",
       "      <td>FTjNLDyTrXaWYgZymFkV</td>\n",
       "      <td>xhoenQgDQsgfEPYNPwKO</td>\n",
       "      <td>IGUCNvHlhfHpROGclCit</td>\n",
       "      <td>mobile</td>\n",
       "      <td>Android</td>\n",
       "      <td>Samsung</td>\n",
       "      <td>NaN</td>\n",
       "      <td>385x854</td>\n",
       "      <td>Samsung Internet</td>\n",
       "      <td>Russia</td>\n",
       "      <td>Moscow</td>\n",
       "    </tr>\n",
       "    <tr>\n",
       "      <th>2</th>\n",
       "      <td>9055446045651783499.1640648526.1640648526</td>\n",
       "      <td>2108385331.1640648523</td>\n",
       "      <td>2021-12-28</td>\n",
       "      <td>02:42:06</td>\n",
       "      <td>1</td>\n",
       "      <td>ZpYIoDJMcFzVoPFsHGJL</td>\n",
       "      <td>banner</td>\n",
       "      <td>LEoPHuyFvzoNfnzGgfcd</td>\n",
       "      <td>vCIpmpaGBnIQhyYNkXqp</td>\n",
       "      <td>puhZPIYqKXeFPaUviSjo</td>\n",
       "      <td>mobile</td>\n",
       "      <td>Android</td>\n",
       "      <td>Huawei</td>\n",
       "      <td>NaN</td>\n",
       "      <td>360x720</td>\n",
       "      <td>Chrome</td>\n",
       "      <td>Russia</td>\n",
       "      <td>Krasnoyarsk</td>\n",
       "    </tr>\n",
       "    <tr>\n",
       "      <th>3</th>\n",
       "      <td>9055447046360770272.1622255328.1622255328</td>\n",
       "      <td>2108385564.1622255328</td>\n",
       "      <td>2021-05-29</td>\n",
       "      <td>05:00:00</td>\n",
       "      <td>1</td>\n",
       "      <td>kjsLglQLzykiRbcDiGcD</td>\n",
       "      <td>cpc</td>\n",
       "      <td>NaN</td>\n",
       "      <td>NOBKLgtuvqYWkXQHeYWM</td>\n",
       "      <td>NaN</td>\n",
       "      <td>mobile</td>\n",
       "      <td>None</td>\n",
       "      <td>Xiaomi</td>\n",
       "      <td>NaN</td>\n",
       "      <td>393x786</td>\n",
       "      <td>Chrome</td>\n",
       "      <td>Russia</td>\n",
       "      <td>Moscow</td>\n",
       "    </tr>\n",
       "    <tr>\n",
       "      <th>4</th>\n",
       "      <td>9055447046360770272.1622255345.1622255345</td>\n",
       "      <td>2108385564.1622255328</td>\n",
       "      <td>2021-05-29</td>\n",
       "      <td>05:00:00</td>\n",
       "      <td>2</td>\n",
       "      <td>kjsLglQLzykiRbcDiGcD</td>\n",
       "      <td>cpc</td>\n",
       "      <td>NaN</td>\n",
       "      <td>NaN</td>\n",
       "      <td>NaN</td>\n",
       "      <td>mobile</td>\n",
       "      <td>None</td>\n",
       "      <td>Xiaomi</td>\n",
       "      <td>NaN</td>\n",
       "      <td>393x786</td>\n",
       "      <td>Chrome</td>\n",
       "      <td>Russia</td>\n",
       "      <td>Moscow</td>\n",
       "    </tr>\n",
       "  </tbody>\n",
       "</table>\n",
       "</div>"
      ],
      "text/plain": [
       "                                  session_id              client_id  \\\n",
       "0  9055434745589932991.1637753792.1637753792  2108382700.1637753791   \n",
       "1   905544597018549464.1636867290.1636867290   210838531.1636867288   \n",
       "2  9055446045651783499.1640648526.1640648526  2108385331.1640648523   \n",
       "3  9055447046360770272.1622255328.1622255328  2108385564.1622255328   \n",
       "4  9055447046360770272.1622255345.1622255345  2108385564.1622255328   \n",
       "\n",
       "   visit_date visit_time  visit_number            utm_source utm_medium  \\\n",
       "0  2021-11-24   14:36:32             1  ZpYIoDJMcFzVoPFsHGJL     banner   \n",
       "1  2021-11-14   08:21:30             1  MvfHsxITijuriZxsqZqt        cpm   \n",
       "2  2021-12-28   02:42:06             1  ZpYIoDJMcFzVoPFsHGJL     banner   \n",
       "3  2021-05-29   05:00:00             1  kjsLglQLzykiRbcDiGcD        cpc   \n",
       "4  2021-05-29   05:00:00             2  kjsLglQLzykiRbcDiGcD        cpc   \n",
       "\n",
       "           utm_campaign         utm_adcontent           utm_keyword  \\\n",
       "0  LEoPHuyFvzoNfnzGgfcd  vCIpmpaGBnIQhyYNkXqp  puhZPIYqKXeFPaUviSjo   \n",
       "1  FTjNLDyTrXaWYgZymFkV  xhoenQgDQsgfEPYNPwKO  IGUCNvHlhfHpROGclCit   \n",
       "2  LEoPHuyFvzoNfnzGgfcd  vCIpmpaGBnIQhyYNkXqp  puhZPIYqKXeFPaUviSjo   \n",
       "3                   NaN  NOBKLgtuvqYWkXQHeYWM                   NaN   \n",
       "4                   NaN                   NaN                   NaN   \n",
       "\n",
       "  device_category device_os device_brand device_model  \\\n",
       "0          mobile   Android       Huawei          NaN   \n",
       "1          mobile   Android      Samsung          NaN   \n",
       "2          mobile   Android       Huawei          NaN   \n",
       "3          mobile      None       Xiaomi          NaN   \n",
       "4          mobile      None       Xiaomi          NaN   \n",
       "\n",
       "  device_screen_resolution    device_browser geo_country     geo_city  \n",
       "0                  360x720            Chrome      Russia     Zlatoust  \n",
       "1                  385x854  Samsung Internet      Russia       Moscow  \n",
       "2                  360x720            Chrome      Russia  Krasnoyarsk  \n",
       "3                  393x786            Chrome      Russia       Moscow  \n",
       "4                  393x786            Chrome      Russia       Moscow  "
      ]
     },
     "execution_count": 7,
     "metadata": {},
     "output_type": "execute_result"
    }
   ],
   "source": [
    "df_sessions.head()"
   ]
  },
  {
   "cell_type": "code",
   "execution_count": 8,
   "id": "5f9ab3f1",
   "metadata": {},
   "outputs": [
    {
     "data": {
      "text/plain": [
       "(1860042, 18)"
      ]
     },
     "execution_count": 8,
     "metadata": {},
     "output_type": "execute_result"
    }
   ],
   "source": [
    "df_sessions.shape"
   ]
  },
  {
   "cell_type": "code",
   "execution_count": 9,
   "id": "a44c4777",
   "metadata": {},
   "outputs": [
    {
     "name": "stdout",
     "output_type": "stream",
     "text": [
      "<class 'pandas.core.frame.DataFrame'>\n",
      "RangeIndex: 1860042 entries, 0 to 1860041\n",
      "Data columns (total 18 columns):\n",
      " #   Column                    Dtype \n",
      "---  ------                    ----- \n",
      " 0   session_id                object\n",
      " 1   client_id                 object\n",
      " 2   visit_date                object\n",
      " 3   visit_time                object\n",
      " 4   visit_number              int64 \n",
      " 5   utm_source                object\n",
      " 6   utm_medium                object\n",
      " 7   utm_campaign              object\n",
      " 8   utm_adcontent             object\n",
      " 9   utm_keyword               object\n",
      " 10  device_category           object\n",
      " 11  device_os                 object\n",
      " 12  device_brand              object\n",
      " 13  device_model              object\n",
      " 14  device_screen_resolution  object\n",
      " 15  device_browser            object\n",
      " 16  geo_country               object\n",
      " 17  geo_city                  object\n",
      "dtypes: int64(1), object(17)\n",
      "memory usage: 255.4+ MB\n"
     ]
    }
   ],
   "source": [
    "df_sessions.info()"
   ]
  },
  {
   "cell_type": "markdown",
   "id": "cb3effff",
   "metadata": {},
   "source": [
    "## Data preparation"
   ]
  },
  {
   "cell_type": "markdown",
   "id": "38fc4fa4",
   "metadata": {},
   "source": [
    "### df_hits dataframe transformation"
   ]
  },
  {
   "cell_type": "code",
   "execution_count": 10,
   "id": "714f8714",
   "metadata": {},
   "outputs": [],
   "source": [
    "df_hits = df_hits.drop_duplicates()"
   ]
  },
  {
   "cell_type": "code",
   "execution_count": 11,
   "id": "31381e37",
   "metadata": {},
   "outputs": [
    {
     "data": {
      "text/plain": [
       "(15726470, 11)"
      ]
     },
     "execution_count": 11,
     "metadata": {},
     "output_type": "execute_result"
    }
   ],
   "source": [
    "df_hits.shape"
   ]
  },
  {
   "cell_type": "code",
   "execution_count": 12,
   "id": "777aa853",
   "metadata": {},
   "outputs": [],
   "source": [
    "df_hits_new = df_hits.loc[:,['session_id', 'hit_page_path', 'event_action']]"
   ]
  },
  {
   "cell_type": "code",
   "execution_count": 13,
   "id": "1b007ba4",
   "metadata": {},
   "outputs": [
    {
     "data": {
      "text/html": [
       "<div>\n",
       "<style scoped>\n",
       "    .dataframe tbody tr th:only-of-type {\n",
       "        vertical-align: middle;\n",
       "    }\n",
       "\n",
       "    .dataframe tbody tr th {\n",
       "        vertical-align: top;\n",
       "    }\n",
       "\n",
       "    .dataframe thead th {\n",
       "        text-align: right;\n",
       "    }\n",
       "</style>\n",
       "<table border=\"1\" class=\"dataframe\">\n",
       "  <thead>\n",
       "    <tr style=\"text-align: right;\">\n",
       "      <th></th>\n",
       "      <th>session_id</th>\n",
       "      <th>hit_page_path</th>\n",
       "      <th>event_action</th>\n",
       "    </tr>\n",
       "  </thead>\n",
       "  <tbody>\n",
       "    <tr>\n",
       "      <th>0</th>\n",
       "      <td>5639623078712724064.1640254056.1640254056</td>\n",
       "      <td>sberauto.com/cars?utm_source_initial=google&amp;ut...</td>\n",
       "      <td>quiz_show</td>\n",
       "    </tr>\n",
       "    <tr>\n",
       "      <th>1</th>\n",
       "      <td>7750352294969115059.1640271109.1640271109</td>\n",
       "      <td>sberauto.com/cars/fiat?city=1&amp;city=18&amp;rental_c...</td>\n",
       "      <td>quiz_show</td>\n",
       "    </tr>\n",
       "    <tr>\n",
       "      <th>2</th>\n",
       "      <td>885342191847998240.1640235807.1640235807</td>\n",
       "      <td>sberauto.com/cars/all/volkswagen/polo/e994838f...</td>\n",
       "      <td>quiz_show</td>\n",
       "    </tr>\n",
       "    <tr>\n",
       "      <th>3</th>\n",
       "      <td>142526202120934167.1640211014.1640211014</td>\n",
       "      <td>sberauto.com/cars?utm_source_initial=yandex&amp;ut...</td>\n",
       "      <td>quiz_show</td>\n",
       "    </tr>\n",
       "    <tr>\n",
       "      <th>4</th>\n",
       "      <td>3450086108837475701.1640265078.1640265078</td>\n",
       "      <td>sberauto.com/cars/all/mercedes-benz/cla-klasse...</td>\n",
       "      <td>quiz_show</td>\n",
       "    </tr>\n",
       "  </tbody>\n",
       "</table>\n",
       "</div>"
      ],
      "text/plain": [
       "                                  session_id  \\\n",
       "0  5639623078712724064.1640254056.1640254056   \n",
       "1  7750352294969115059.1640271109.1640271109   \n",
       "2   885342191847998240.1640235807.1640235807   \n",
       "3   142526202120934167.1640211014.1640211014   \n",
       "4  3450086108837475701.1640265078.1640265078   \n",
       "\n",
       "                                       hit_page_path event_action  \n",
       "0  sberauto.com/cars?utm_source_initial=google&ut...    quiz_show  \n",
       "1  sberauto.com/cars/fiat?city=1&city=18&rental_c...    quiz_show  \n",
       "2  sberauto.com/cars/all/volkswagen/polo/e994838f...    quiz_show  \n",
       "3  sberauto.com/cars?utm_source_initial=yandex&ut...    quiz_show  \n",
       "4  sberauto.com/cars/all/mercedes-benz/cla-klasse...    quiz_show  "
      ]
     },
     "execution_count": 13,
     "metadata": {},
     "output_type": "execute_result"
    }
   ],
   "source": [
    "df_hits_new.head()"
   ]
  },
  {
   "cell_type": "code",
   "execution_count": 14,
   "id": "9efd84bb",
   "metadata": {},
   "outputs": [],
   "source": [
    "# Создаем новый признак с названиями моделей автомобилей\n",
    "\n",
    "df_hits_new['model'] = df_hits_new.hit_page_path.apply(lambda x: x.split('/')[3] + ' ' + x.split('/')[4]\n",
    "                                                       if len(x.split('/')) > 4 and x.split('/')[1] == 'cars'  \n",
    "                                                       else 'other')"
   ]
  },
  {
   "cell_type": "code",
   "execution_count": 15,
   "id": "b08ec1cb",
   "metadata": {
    "scrolled": false
   },
   "outputs": [
    {
     "data": {
      "text/plain": [
       "other                                                                                                                                                                  12308741\n",
       "skoda rapid                                                                                                                                                              442513\n",
       "lada-vaz vesta                                                                                                                                                           403910\n",
       "volkswagen polo                                                                                                                                                          318075\n",
       "skoda karoq                                                                                                                                                              194273\n",
       "                                                                                                                                                                         ...   \n",
       "5_serii sale                                                                                                                                                                  7\n",
       "audi a5                                                                                                                                                                       6\n",
       "e-klasse sale                                                                                                                                                                 6\n",
       "x-trail sale                                                                                                                                                                  6\n",
       "polo?city=1&city=611&isnew=true&transmissions=at&rental_car=rental_only&rent_price_from=20 000&rent_price_to=22 000&shortlink=sms&pid=sberauto&c=sber&af_dp=https:            3\n",
       "Name: model, Length: 98, dtype: int64"
      ]
     },
     "execution_count": 15,
     "metadata": {},
     "output_type": "execute_result"
    }
   ],
   "source": [
    "df_hits_new.model.value_counts()"
   ]
  },
  {
   "cell_type": "code",
   "execution_count": 16,
   "id": "e3af8e6e",
   "metadata": {},
   "outputs": [],
   "source": [
    "# Добавляем признак с целевыми действиями\n",
    "\n",
    "df_hits_new['target_action'] = df_hits_new.event_action.apply(lambda x: 1 if x in \n",
    "['sub_car_claim_click', 'sub_car_claim_submit_click',\n",
    "'sub_open_dialog_click', 'sub_custom_question_submit_click',\n",
    "'sub_call_number_click', 'sub_callback_submit_click', 'sub_submit_success',\n",
    "'sub_car_request_submit_click'] \n",
    "else 0)"
   ]
  },
  {
   "cell_type": "code",
   "execution_count": 17,
   "id": "4feb5129",
   "metadata": {},
   "outputs": [
    {
     "data": {
      "text/plain": [
       "0    15621562\n",
       "1      104908\n",
       "Name: target_action, dtype: int64"
      ]
     },
     "execution_count": 17,
     "metadata": {},
     "output_type": "execute_result"
    }
   ],
   "source": [
    "df_hits_new.target_action.value_counts()"
   ]
  },
  {
   "cell_type": "code",
   "execution_count": 18,
   "id": "ab244d4b",
   "metadata": {},
   "outputs": [],
   "source": [
    "df_mod = df_hits_new.drop(['hit_page_path', 'event_action'], axis=1)"
   ]
  },
  {
   "cell_type": "code",
   "execution_count": 19,
   "id": "5aef9e5e",
   "metadata": {},
   "outputs": [],
   "source": [
    "# Создаем таблицу с группировкой по сессиям\n",
    "\n",
    "df_mod = df_hits_new.groupby(['session_id']).agg({'model': ','.join, 'target_action': 'sum'})"
   ]
  },
  {
   "cell_type": "code",
   "execution_count": 20,
   "id": "eb38ff1f",
   "metadata": {},
   "outputs": [],
   "source": [
    "# Преобразуем признак с моделями автомобилей в новой таблице\n",
    "\n",
    "df_mod['model'] = df_mod.model.apply(lambda x: x.split(',')[0])"
   ]
  },
  {
   "cell_type": "code",
   "execution_count": 21,
   "id": "351a7cfb",
   "metadata": {
    "scrolled": true
   },
   "outputs": [],
   "source": [
    "# Делаем признак с целевыми действиями бинарным\n",
    "\n",
    "df_mod['target_action'] = df_mod.target_action.apply(lambda x: 1 if x > 0 else 0)"
   ]
  },
  {
   "cell_type": "markdown",
   "id": "5f1ea7b2",
   "metadata": {},
   "source": [
    "### df_sessions dataframe transformation"
   ]
  },
  {
   "cell_type": "code",
   "execution_count": 22,
   "id": "29aa22d9",
   "metadata": {},
   "outputs": [],
   "source": [
    "df_sessions = df_sessions.drop_duplicates()"
   ]
  },
  {
   "cell_type": "code",
   "execution_count": 23,
   "id": "d729cfb9",
   "metadata": {
    "scrolled": true
   },
   "outputs": [
    {
     "data": {
      "text/plain": [
       "(1860042, 18)"
      ]
     },
     "execution_count": 23,
     "metadata": {},
     "output_type": "execute_result"
    }
   ],
   "source": [
    "df_sessions.shape"
   ]
  },
  {
   "cell_type": "code",
   "execution_count": 24,
   "id": "559615d8",
   "metadata": {},
   "outputs": [],
   "source": [
    "# Удаляем лишние признаки\n",
    "\n",
    "df_sessions_new = df_sessions.drop(['visit_number','utm_keyword','utm_adcontent','device_screen_resolution',\n",
    "                                    'device_browser','device_model','device_os'], axis=1)"
   ]
  },
  {
   "cell_type": "code",
   "execution_count": 25,
   "id": "dcf44078",
   "metadata": {},
   "outputs": [
    {
     "data": {
      "text/html": [
       "<div>\n",
       "<style scoped>\n",
       "    .dataframe tbody tr th:only-of-type {\n",
       "        vertical-align: middle;\n",
       "    }\n",
       "\n",
       "    .dataframe tbody tr th {\n",
       "        vertical-align: top;\n",
       "    }\n",
       "\n",
       "    .dataframe thead th {\n",
       "        text-align: right;\n",
       "    }\n",
       "</style>\n",
       "<table border=\"1\" class=\"dataframe\">\n",
       "  <thead>\n",
       "    <tr style=\"text-align: right;\">\n",
       "      <th></th>\n",
       "      <th>session_id</th>\n",
       "      <th>client_id</th>\n",
       "      <th>visit_date</th>\n",
       "      <th>visit_time</th>\n",
       "      <th>utm_source</th>\n",
       "      <th>utm_medium</th>\n",
       "      <th>utm_campaign</th>\n",
       "      <th>device_category</th>\n",
       "      <th>device_brand</th>\n",
       "      <th>geo_country</th>\n",
       "      <th>geo_city</th>\n",
       "    </tr>\n",
       "  </thead>\n",
       "  <tbody>\n",
       "    <tr>\n",
       "      <th>0</th>\n",
       "      <td>9055434745589932991.1637753792.1637753792</td>\n",
       "      <td>2108382700.1637753791</td>\n",
       "      <td>2021-11-24</td>\n",
       "      <td>14:36:32</td>\n",
       "      <td>ZpYIoDJMcFzVoPFsHGJL</td>\n",
       "      <td>banner</td>\n",
       "      <td>LEoPHuyFvzoNfnzGgfcd</td>\n",
       "      <td>mobile</td>\n",
       "      <td>Huawei</td>\n",
       "      <td>Russia</td>\n",
       "      <td>Zlatoust</td>\n",
       "    </tr>\n",
       "    <tr>\n",
       "      <th>1</th>\n",
       "      <td>905544597018549464.1636867290.1636867290</td>\n",
       "      <td>210838531.1636867288</td>\n",
       "      <td>2021-11-14</td>\n",
       "      <td>08:21:30</td>\n",
       "      <td>MvfHsxITijuriZxsqZqt</td>\n",
       "      <td>cpm</td>\n",
       "      <td>FTjNLDyTrXaWYgZymFkV</td>\n",
       "      <td>mobile</td>\n",
       "      <td>Samsung</td>\n",
       "      <td>Russia</td>\n",
       "      <td>Moscow</td>\n",
       "    </tr>\n",
       "    <tr>\n",
       "      <th>2</th>\n",
       "      <td>9055446045651783499.1640648526.1640648526</td>\n",
       "      <td>2108385331.1640648523</td>\n",
       "      <td>2021-12-28</td>\n",
       "      <td>02:42:06</td>\n",
       "      <td>ZpYIoDJMcFzVoPFsHGJL</td>\n",
       "      <td>banner</td>\n",
       "      <td>LEoPHuyFvzoNfnzGgfcd</td>\n",
       "      <td>mobile</td>\n",
       "      <td>Huawei</td>\n",
       "      <td>Russia</td>\n",
       "      <td>Krasnoyarsk</td>\n",
       "    </tr>\n",
       "    <tr>\n",
       "      <th>3</th>\n",
       "      <td>9055447046360770272.1622255328.1622255328</td>\n",
       "      <td>2108385564.1622255328</td>\n",
       "      <td>2021-05-29</td>\n",
       "      <td>05:00:00</td>\n",
       "      <td>kjsLglQLzykiRbcDiGcD</td>\n",
       "      <td>cpc</td>\n",
       "      <td>NaN</td>\n",
       "      <td>mobile</td>\n",
       "      <td>Xiaomi</td>\n",
       "      <td>Russia</td>\n",
       "      <td>Moscow</td>\n",
       "    </tr>\n",
       "    <tr>\n",
       "      <th>4</th>\n",
       "      <td>9055447046360770272.1622255345.1622255345</td>\n",
       "      <td>2108385564.1622255328</td>\n",
       "      <td>2021-05-29</td>\n",
       "      <td>05:00:00</td>\n",
       "      <td>kjsLglQLzykiRbcDiGcD</td>\n",
       "      <td>cpc</td>\n",
       "      <td>NaN</td>\n",
       "      <td>mobile</td>\n",
       "      <td>Xiaomi</td>\n",
       "      <td>Russia</td>\n",
       "      <td>Moscow</td>\n",
       "    </tr>\n",
       "  </tbody>\n",
       "</table>\n",
       "</div>"
      ],
      "text/plain": [
       "                                  session_id              client_id  \\\n",
       "0  9055434745589932991.1637753792.1637753792  2108382700.1637753791   \n",
       "1   905544597018549464.1636867290.1636867290   210838531.1636867288   \n",
       "2  9055446045651783499.1640648526.1640648526  2108385331.1640648523   \n",
       "3  9055447046360770272.1622255328.1622255328  2108385564.1622255328   \n",
       "4  9055447046360770272.1622255345.1622255345  2108385564.1622255328   \n",
       "\n",
       "   visit_date visit_time            utm_source utm_medium  \\\n",
       "0  2021-11-24   14:36:32  ZpYIoDJMcFzVoPFsHGJL     banner   \n",
       "1  2021-11-14   08:21:30  MvfHsxITijuriZxsqZqt        cpm   \n",
       "2  2021-12-28   02:42:06  ZpYIoDJMcFzVoPFsHGJL     banner   \n",
       "3  2021-05-29   05:00:00  kjsLglQLzykiRbcDiGcD        cpc   \n",
       "4  2021-05-29   05:00:00  kjsLglQLzykiRbcDiGcD        cpc   \n",
       "\n",
       "           utm_campaign device_category device_brand geo_country     geo_city  \n",
       "0  LEoPHuyFvzoNfnzGgfcd          mobile       Huawei      Russia     Zlatoust  \n",
       "1  FTjNLDyTrXaWYgZymFkV          mobile      Samsung      Russia       Moscow  \n",
       "2  LEoPHuyFvzoNfnzGgfcd          mobile       Huawei      Russia  Krasnoyarsk  \n",
       "3                   NaN          mobile       Xiaomi      Russia       Moscow  \n",
       "4                   NaN          mobile       Xiaomi      Russia       Moscow  "
      ]
     },
     "execution_count": 25,
     "metadata": {},
     "output_type": "execute_result"
    }
   ],
   "source": [
    "df_sessions_new.head()"
   ]
  },
  {
   "cell_type": "markdown",
   "id": "85a847f3",
   "metadata": {},
   "source": [
    "### Merging and cleaning the dataframe"
   ]
  },
  {
   "cell_type": "code",
   "execution_count": 26,
   "id": "18b06edc",
   "metadata": {},
   "outputs": [],
   "source": [
    "# Создаем таблицу объединенную по признаку session_id\n",
    "\n",
    "df = df_sessions_new.merge(df_mod, on='session_id', how='inner')"
   ]
  },
  {
   "cell_type": "code",
   "execution_count": 27,
   "id": "87491161",
   "metadata": {
    "scrolled": true
   },
   "outputs": [
    {
     "data": {
      "text/html": [
       "<div>\n",
       "<style scoped>\n",
       "    .dataframe tbody tr th:only-of-type {\n",
       "        vertical-align: middle;\n",
       "    }\n",
       "\n",
       "    .dataframe tbody tr th {\n",
       "        vertical-align: top;\n",
       "    }\n",
       "\n",
       "    .dataframe thead th {\n",
       "        text-align: right;\n",
       "    }\n",
       "</style>\n",
       "<table border=\"1\" class=\"dataframe\">\n",
       "  <thead>\n",
       "    <tr style=\"text-align: right;\">\n",
       "      <th></th>\n",
       "      <th>session_id</th>\n",
       "      <th>client_id</th>\n",
       "      <th>visit_date</th>\n",
       "      <th>visit_time</th>\n",
       "      <th>utm_source</th>\n",
       "      <th>utm_medium</th>\n",
       "      <th>utm_campaign</th>\n",
       "      <th>device_category</th>\n",
       "      <th>device_brand</th>\n",
       "      <th>geo_country</th>\n",
       "      <th>geo_city</th>\n",
       "      <th>model</th>\n",
       "      <th>target_action</th>\n",
       "    </tr>\n",
       "  </thead>\n",
       "  <tbody>\n",
       "    <tr>\n",
       "      <th>0</th>\n",
       "      <td>9055434745589932991.1637753792.1637753792</td>\n",
       "      <td>2108382700.1637753791</td>\n",
       "      <td>2021-11-24</td>\n",
       "      <td>14:36:32</td>\n",
       "      <td>ZpYIoDJMcFzVoPFsHGJL</td>\n",
       "      <td>banner</td>\n",
       "      <td>LEoPHuyFvzoNfnzGgfcd</td>\n",
       "      <td>mobile</td>\n",
       "      <td>Huawei</td>\n",
       "      <td>Russia</td>\n",
       "      <td>Zlatoust</td>\n",
       "      <td>other</td>\n",
       "      <td>0</td>\n",
       "    </tr>\n",
       "    <tr>\n",
       "      <th>1</th>\n",
       "      <td>905544597018549464.1636867290.1636867290</td>\n",
       "      <td>210838531.1636867288</td>\n",
       "      <td>2021-11-14</td>\n",
       "      <td>08:21:30</td>\n",
       "      <td>MvfHsxITijuriZxsqZqt</td>\n",
       "      <td>cpm</td>\n",
       "      <td>FTjNLDyTrXaWYgZymFkV</td>\n",
       "      <td>mobile</td>\n",
       "      <td>Samsung</td>\n",
       "      <td>Russia</td>\n",
       "      <td>Moscow</td>\n",
       "      <td>other</td>\n",
       "      <td>0</td>\n",
       "    </tr>\n",
       "    <tr>\n",
       "      <th>2</th>\n",
       "      <td>9055446045651783499.1640648526.1640648526</td>\n",
       "      <td>2108385331.1640648523</td>\n",
       "      <td>2021-12-28</td>\n",
       "      <td>02:42:06</td>\n",
       "      <td>ZpYIoDJMcFzVoPFsHGJL</td>\n",
       "      <td>banner</td>\n",
       "      <td>LEoPHuyFvzoNfnzGgfcd</td>\n",
       "      <td>mobile</td>\n",
       "      <td>Huawei</td>\n",
       "      <td>Russia</td>\n",
       "      <td>Krasnoyarsk</td>\n",
       "      <td>other</td>\n",
       "      <td>0</td>\n",
       "    </tr>\n",
       "    <tr>\n",
       "      <th>3</th>\n",
       "      <td>9055447046360770272.1622255328.1622255328</td>\n",
       "      <td>2108385564.1622255328</td>\n",
       "      <td>2021-05-29</td>\n",
       "      <td>05:00:00</td>\n",
       "      <td>kjsLglQLzykiRbcDiGcD</td>\n",
       "      <td>cpc</td>\n",
       "      <td>NaN</td>\n",
       "      <td>mobile</td>\n",
       "      <td>Xiaomi</td>\n",
       "      <td>Russia</td>\n",
       "      <td>Moscow</td>\n",
       "      <td>other</td>\n",
       "      <td>0</td>\n",
       "    </tr>\n",
       "    <tr>\n",
       "      <th>4</th>\n",
       "      <td>9055447046360770272.1622255345.1622255345</td>\n",
       "      <td>2108385564.1622255328</td>\n",
       "      <td>2021-05-29</td>\n",
       "      <td>05:00:00</td>\n",
       "      <td>kjsLglQLzykiRbcDiGcD</td>\n",
       "      <td>cpc</td>\n",
       "      <td>NaN</td>\n",
       "      <td>mobile</td>\n",
       "      <td>Xiaomi</td>\n",
       "      <td>Russia</td>\n",
       "      <td>Moscow</td>\n",
       "      <td>other</td>\n",
       "      <td>0</td>\n",
       "    </tr>\n",
       "  </tbody>\n",
       "</table>\n",
       "</div>"
      ],
      "text/plain": [
       "                                  session_id              client_id  \\\n",
       "0  9055434745589932991.1637753792.1637753792  2108382700.1637753791   \n",
       "1   905544597018549464.1636867290.1636867290   210838531.1636867288   \n",
       "2  9055446045651783499.1640648526.1640648526  2108385331.1640648523   \n",
       "3  9055447046360770272.1622255328.1622255328  2108385564.1622255328   \n",
       "4  9055447046360770272.1622255345.1622255345  2108385564.1622255328   \n",
       "\n",
       "   visit_date visit_time            utm_source utm_medium  \\\n",
       "0  2021-11-24   14:36:32  ZpYIoDJMcFzVoPFsHGJL     banner   \n",
       "1  2021-11-14   08:21:30  MvfHsxITijuriZxsqZqt        cpm   \n",
       "2  2021-12-28   02:42:06  ZpYIoDJMcFzVoPFsHGJL     banner   \n",
       "3  2021-05-29   05:00:00  kjsLglQLzykiRbcDiGcD        cpc   \n",
       "4  2021-05-29   05:00:00  kjsLglQLzykiRbcDiGcD        cpc   \n",
       "\n",
       "           utm_campaign device_category device_brand geo_country     geo_city  \\\n",
       "0  LEoPHuyFvzoNfnzGgfcd          mobile       Huawei      Russia     Zlatoust   \n",
       "1  FTjNLDyTrXaWYgZymFkV          mobile      Samsung      Russia       Moscow   \n",
       "2  LEoPHuyFvzoNfnzGgfcd          mobile       Huawei      Russia  Krasnoyarsk   \n",
       "3                   NaN          mobile       Xiaomi      Russia       Moscow   \n",
       "4                   NaN          mobile       Xiaomi      Russia       Moscow   \n",
       "\n",
       "   model  target_action  \n",
       "0  other              0  \n",
       "1  other              0  \n",
       "2  other              0  \n",
       "3  other              0  \n",
       "4  other              0  "
      ]
     },
     "execution_count": 27,
     "metadata": {},
     "output_type": "execute_result"
    }
   ],
   "source": [
    "df.head()"
   ]
  },
  {
   "cell_type": "code",
   "execution_count": 28,
   "id": "fd85049d",
   "metadata": {},
   "outputs": [
    {
     "name": "stdout",
     "output_type": "stream",
     "text": [
      "Количество полностью заполненных объектов из всей выборки: 1446597\n",
      "Процент полностью заполненных объектов из всей выборки: 83.51\n"
     ]
    }
   ],
   "source": [
    "def print_useful_rows_info(df):\n",
    "    print('Количество полностью заполненных объектов из всей выборки:', len(df.dropna()))\n",
    "    print('Процент полностью заполненных объектов из всей выборки:', round(len(df.dropna()) / len(df) * 100, 2))\n",
    "    \n",
    "print_useful_rows_info(df)"
   ]
  },
  {
   "cell_type": "code",
   "execution_count": 29,
   "id": "2ae63c50",
   "metadata": {},
   "outputs": [
    {
     "name": "stdout",
     "output_type": "stream",
     "text": [
      "Процент пропущенных значений:\n",
      " utm_campaign       11.273500\n",
      "device_brand        6.358030\n",
      "utm_source          0.004387\n",
      "session_id          0.000000\n",
      "client_id           0.000000\n",
      "visit_date          0.000000\n",
      "visit_time          0.000000\n",
      "utm_medium          0.000000\n",
      "device_category     0.000000\n",
      "geo_country         0.000000\n",
      "geo_city            0.000000\n",
      "model               0.000000\n",
      "target_action       0.000000\n",
      "dtype: float64\n"
     ]
    }
   ],
   "source": [
    "missing_values = ((df.isna().sum() / len(df)) * 100).sort_values(ascending=False)\n",
    "print('Процент пропущенных значений:\\n', missing_values)"
   ]
  },
  {
   "cell_type": "code",
   "execution_count": 30,
   "id": "bf29e44d",
   "metadata": {},
   "outputs": [],
   "source": [
    "df.device_brand = df.device_brand.fillna('(not set)')"
   ]
  },
  {
   "cell_type": "code",
   "execution_count": 31,
   "id": "d80d70b4",
   "metadata": {},
   "outputs": [],
   "source": [
    "mode_status = (str(df['utm_source'].mode())).split()\n",
    "df.utm_source = df.utm_source.fillna(mode_status[1])"
   ]
  },
  {
   "cell_type": "code",
   "execution_count": 32,
   "id": "1027dcac",
   "metadata": {},
   "outputs": [
    {
     "name": "stdout",
     "output_type": "stream",
     "text": [
      "Процент пропущенных значений:\n",
      " utm_campaign       11.2735\n",
      "session_id          0.0000\n",
      "client_id           0.0000\n",
      "visit_date          0.0000\n",
      "visit_time          0.0000\n",
      "utm_source          0.0000\n",
      "utm_medium          0.0000\n",
      "device_category     0.0000\n",
      "device_brand        0.0000\n",
      "geo_country         0.0000\n",
      "geo_city            0.0000\n",
      "model               0.0000\n",
      "target_action       0.0000\n",
      "dtype: float64\n"
     ]
    }
   ],
   "source": [
    "missing_values = ((df.isna().sum() / len(df)) * 100).sort_values(ascending=False)\n",
    "print('Процент пропущенных значений:\\n', missing_values)"
   ]
  },
  {
   "cell_type": "code",
   "execution_count": 33,
   "id": "2464dcde",
   "metadata": {},
   "outputs": [
    {
     "data": {
      "text/plain": [
       "Apple        503533\n",
       "Samsung      311641\n",
       "Xiaomi       269251\n",
       "             237058\n",
       "Huawei       173828\n",
       "(not set)    126530\n",
       "Realme        17926\n",
       "OPPO          12775\n",
       "Vivo          11026\n",
       "OnePlus        9322\n",
       "Asus           7487\n",
       "Nokia          6864\n",
       "Sony           6106\n",
       "ZTE            5987\n",
       "Google         4472\n",
       "Meizu          3529\n",
       "Lenovo         2942\n",
       "Blackview      2592\n",
       "Tecno          2501\n",
       "LG             2256\n",
       "Name: device_brand, dtype: int64"
      ]
     },
     "execution_count": 33,
     "metadata": {},
     "output_type": "execute_result"
    }
   ],
   "source": [
    "df.device_brand.value_counts().nlargest(20)"
   ]
  },
  {
   "cell_type": "code",
   "execution_count": 34,
   "id": "06ac5b9b",
   "metadata": {},
   "outputs": [],
   "source": [
    "df.loc[(df.device_brand == ''), 'device_brand'] = '(not set)'"
   ]
  },
  {
   "cell_type": "code",
   "execution_count": 35,
   "id": "13a65404",
   "metadata": {},
   "outputs": [
    {
     "data": {
      "text/plain": [
       "Apple        503533\n",
       "(not set)    363588\n",
       "Samsung      311641\n",
       "Xiaomi       269251\n",
       "Huawei       173828\n",
       "Realme        17926\n",
       "OPPO          12775\n",
       "Vivo          11026\n",
       "OnePlus        9322\n",
       "Asus           7487\n",
       "Nokia          6864\n",
       "Sony           6106\n",
       "ZTE            5987\n",
       "Google         4472\n",
       "Meizu          3529\n",
       "Lenovo         2942\n",
       "Blackview      2592\n",
       "Tecno          2501\n",
       "LG             2256\n",
       "Motorola       2189\n",
       "Name: device_brand, dtype: int64"
      ]
     },
     "execution_count": 35,
     "metadata": {},
     "output_type": "execute_result"
    }
   ],
   "source": [
    "df.device_brand.value_counts().nlargest(20)"
   ]
  },
  {
   "cell_type": "code",
   "execution_count": 36,
   "id": "993b4d5e",
   "metadata": {},
   "outputs": [
    {
     "data": {
      "text/plain": [
       "Moscow              750928\n",
       "Saint Petersburg    278402\n",
       "(not set)            73297\n",
       "Yekaterinburg        33555\n",
       "Krasnodar            30260\n",
       "Kazan                27689\n",
       "Samara               23433\n",
       "Nizhny Novgorod      20782\n",
       "Ufa                  20283\n",
       "Novosibirsk          20115\n",
       "Krasnoyarsk          15283\n",
       "Chelyabinsk          14923\n",
       "Tula                 14774\n",
       "Rostov-on-Don        13064\n",
       "Voronezh             12701\n",
       "Irkutsk              12596\n",
       "Grozny               11949\n",
       "Balashikha           11868\n",
       "Vladivostok          11514\n",
       "Yaroslavl             9143\n",
       "Name: geo_city, dtype: int64"
      ]
     },
     "execution_count": 36,
     "metadata": {},
     "output_type": "execute_result"
    }
   ],
   "source": [
    "df.geo_city.value_counts().nlargest(20)"
   ]
  },
  {
   "cell_type": "markdown",
   "id": "3dab8270",
   "metadata": {},
   "source": [
    "### Data visualization"
   ]
  },
  {
   "cell_type": "code",
   "execution_count": 37,
   "id": "8a5f8a45",
   "metadata": {},
   "outputs": [
    {
     "data": {
      "image/png": "[encoded data removed]",
      "text/plain": [
       "<Figure size 864x576 with 1 Axes>"
      ]
     },
     "metadata": {
      "needs_background": "light"
     },
     "output_type": "display_data"
    }
   ],
   "source": [
    "#Распределение визитов по категории устройства\n",
    "\n",
    "df_bar = df['device_category'].value_counts()\n",
    "df_bar = df_bar.reset_index()\n",
    "df_bar.rename(columns = {'index': 'device_category', 'device_category': 'visits'}, inplace = True)\n",
    "\n",
    "fig,ax = plt.subplots(figsize=(12,8))\n",
    "ax.bar(df_bar['device_category'], df_bar['visits'], color='green')\n",
    "ax.set_title('Распределение визитов по категогии устройства')\n",
    "ax.set_ylabel('Количество визитов')\n",
    "ax.yaxis.set_major_formatter(FormatStrFormatter('%.0f'))"
   ]
  },
  {
   "cell_type": "code",
   "execution_count": 38,
   "id": "601a61a1",
   "metadata": {},
   "outputs": [
    {
     "data": {
      "text/plain": [
       "Text(0, 0.5, 'Количество визитов')"
      ]
     },
     "execution_count": 38,
     "metadata": {},
     "output_type": "execute_result"
    },
    {
     "data": {
      "image/png": "[encoded data removed]",
      "text/plain": [
       "<Figure size 864x576 with 1 Axes>"
      ]
     },
     "metadata": {
      "needs_background": "light"
     },
     "output_type": "display_data"
    }
   ],
   "source": [
    "#Распределение визитов по типу привлечения\n",
    "\n",
    "df_utm = df['utm_medium'].value_counts()\n",
    "df_utm.drop(labels='(none)', axis=0, inplace=True)\n",
    "df_utm = df_utm.iloc[0:10]\n",
    "df_utm =  df_utm.reset_index()\n",
    "df_utm.rename(columns = {'index': 'utm_medium', 'utm_medium': 'visits'}, inplace = True)\n",
    "\n",
    "fig,ax = plt.subplots(figsize=(12,8))\n",
    "ax.bar(df_utm['utm_medium'], df_utm['visits'], color='green')\n",
    "ax.set_title('Распределение визитов по типу привлечения (топ-10)')\n",
    "ax.set_ylabel('Количество визитов')\n"
   ]
  },
  {
   "cell_type": "code",
   "execution_count": 39,
   "id": "b70b39ac",
   "metadata": {},
   "outputs": [
    {
     "data": {
      "image/png": "[encoded data removed]",
      "text/plain": [
       "<Figure size 864x576 with 1 Axes>"
      ]
     },
     "metadata": {
      "needs_background": "light"
     },
     "output_type": "display_data"
    }
   ],
   "source": [
    "#Количество визитов по датам\n",
    "\n",
    "stats = df.groupby(['visit_date']).agg({'session_id':'count'})\n",
    "stats = stats.rename(columns={'session_id': 'visits'})\n",
    "stats = stats.reset_index()\n",
    "\n",
    "fig, ax = plt.subplots(figsize=(12, 8))\n",
    "ax.plot(stats['visit_date'], stats['visits'], color= 'green')\n",
    "ax.set_ylabel('Количество визитов')\n",
    "ax.set_title('Количество визитов по дате');"
   ]
  },
  {
   "cell_type": "code",
   "execution_count": 40,
   "id": "bd8147ad",
   "metadata": {},
   "outputs": [
    {
     "name": "stdout",
     "output_type": "stream",
     "text": [
      "2021-05-19\n",
      "2021-12-31\n"
     ]
    }
   ],
   "source": [
    "date = list(pd.date_range(start=stats['visit_date'].min(),end=stats['visit_date'].max(),freq='M'))\n",
    "print(stats['visit_date'].min())\n",
    "print(stats['visit_date'].max())\n",
    "\n"
   ]
  },
  {
   "attachments": {},
   "cell_type": "markdown",
   "id": "92d9f113",
   "metadata": {},
   "source": [
    "## Hypothesis testing"
   ]
  },
  {
   "attachments": {},
   "cell_type": "markdown",
   "id": "b5cc384b",
   "metadata": {},
   "source": [
    "**Нулевая гипотеза**: Органический трафик не отличается от платного с точки зрения CR (Conversion Rate) в целевые события\n",
    "\n",
    "**Альтернативная гипотеза**: Органический трафик статистически значимо отличается от платного с точки зрения CR"
   ]
  },
  {
   "cell_type": "code",
   "execution_count": 47,
   "id": "c7464e32",
   "metadata": {},
   "outputs": [],
   "source": [
    "df_organic = df.loc[df['utm_medium'].eq('organic') \n",
    "                  | df['utm_medium'].eq('referral')\n",
    "                  | df['utm_medium'].eq('(none)'),\n",
    "                                    'target_action'].to_frame()\n",
    "\n",
    "df_paid = df.loc[df['utm_medium'].ne('organic') \n",
    "               & df['utm_medium'].ne('referral')\n",
    "               & df['utm_medium'].ne('(none)'),\n",
    "                                 'target_action'].to_frame()"
   ]
  },
  {
   "cell_type": "code",
   "execution_count": 48,
   "id": "c2f11f4c",
   "metadata": {},
   "outputs": [
    {
     "name": "stdout",
     "output_type": "stream",
     "text": [
      "Проверка на нормальность распределения\n",
      "ShapiroResult(statistic=0.21084880828857422, pvalue=0.0)\n",
      "ShapiroResult(statistic=0.13772821426391602, pvalue=0.0)\n",
      "Проверка гипотезы\n",
      "MannwhitneyuResult(statistic=302433442716.0, pvalue=0.0)\n"
     ]
    }
   ],
   "source": [
    "print('Проверка на нормальность распределения')\n",
    "print(stats.shapiro(df_organic.sample(n=5000).target_action))\n",
    "print(stats.shapiro(df_paid.sample(n=5000).target_action))\n",
    "\n",
    "# Распределение не нормальное\n",
    "# Выборки независимы\n",
    "# Используем критерий Манна-Уитни для проверки гипотезы\n",
    "\n",
    "print('Проверка гипотезы')\n",
    "print(stats.mannwhitneyu(df_organic.target_action, df_paid.target_action))"
   ]
  },
  {
   "attachments": {},
   "cell_type": "markdown",
   "id": "b6a61861",
   "metadata": {},
   "source": [
    "Различия в оценках между видами трафика являются статистически значимыми (альтернативная гипотеза)"
   ]
  },
  {
   "cell_type": "code",
   "execution_count": 93,
   "id": "5a27b3f0",
   "metadata": {},
   "outputs": [
    {
     "data": {
      "text/plain": [
       "Text(0, 0.5, 'Конверсия')"
      ]
     },
     "execution_count": 93,
     "metadata": {},
     "output_type": "execute_result"
    },
    {
     "data": {
      "image/png": "[encoded data removed]",
      "text/plain": [
       "<Figure size 864x576 with 1 Axes>"
      ]
     },
     "metadata": {
      "needs_background": "light"
     },
     "output_type": "display_data"
    }
   ],
   "source": [
    "organic_cr = df_organic.value_counts()[1] / (df_organic.value_counts()[1] + df_organic.value_counts()[0]) * 100\n",
    "paid_cr = df_paid.value_counts()[1] / (df_paid.value_counts()[1] + df_paid.value_counts()[0]) * 100\n",
    "\n",
    "fig,ax = plt.subplots(figsize=(12,8))\n",
    "ax.bar(['organic', 'paid'], [organic_cr, paid_cr], color='green')\n",
    "ax.set_title('Конверсия по типу привлечения трафика')\n",
    "ax.set_ylabel('Конверсия')"
   ]
  },
  {
   "attachments": {},
   "cell_type": "markdown",
   "id": "f789b0e7",
   "metadata": {},
   "source": [
    "**Нулевая гипотеза**: Трафик с мобильных устройств не отличается от трафика с десктопных устройств с точки зрения CR (Conversion Rate) в целевые события\n",
    "\n",
    "**Альтернативная гипотеза**: Трафик с мобильных устройств значимо отличается от трафика с десктопных устройств с точки зрения CR"
   ]
  },
  {
   "cell_type": "code",
   "execution_count": 51,
   "id": "c758037c",
   "metadata": {},
   "outputs": [],
   "source": [
    "df_mobile = df.loc[df['device_category'] == 'mobile', 'target_action'].to_frame()\n",
    "\n",
    "df_desktop = df.loc[df['device_category'] == 'desktop', 'target_action'].to_frame()"
   ]
  },
  {
   "cell_type": "code",
   "execution_count": 52,
   "id": "c222ca0c",
   "metadata": {
    "scrolled": true
   },
   "outputs": [
    {
     "name": "stdout",
     "output_type": "stream",
     "text": [
      "Проверка на нормальность распределения\n",
      "ShapiroResult(statistic=0.15611779689788818, pvalue=0.0)\n",
      "ShapiroResult(statistic=0.1767374873161316, pvalue=0.0)\n",
      "Проверка гипотезы\n",
      "MannwhitneyuResult(statistic=236169077675.5, pvalue=1.9250893355778475e-58)\n"
     ]
    }
   ],
   "source": [
    "print('Проверка на нормальность распределения')\n",
    "print(stats.shapiro(df_mobile.sample(n=5000).target_action))\n",
    "print(stats.shapiro(df_desktop.sample(n=5000).target_action))\n",
    "\n",
    "# Распределение не нормальное\n",
    "# Выборки независимы\n",
    "# Используем критерий Манна-Уитни для проверки гипотезы\n",
    "\n",
    "print('Проверка гипотезы')\n",
    "print(stats.mannwhitneyu(df_mobile.target_action, df_desktop.target_action))"
   ]
  },
  {
   "attachments": {},
   "cell_type": "markdown",
   "id": "5b0d4a0b",
   "metadata": {},
   "source": [
    "Различия в оценках между видами трафика являются статистически значимыми (альтернативная гипотеза)"
   ]
  },
  {
   "cell_type": "code",
   "execution_count": 53,
   "id": "bcdef679",
   "metadata": {},
   "outputs": [
    {
     "data": {
      "text/plain": [
       "Text(0, 0.5, 'Конверсия')"
      ]
     },
     "execution_count": 53,
     "metadata": {},
     "output_type": "execute_result"
    },
    {
     "data": {
      "image/png": "[encoded data removed]",
      "text/plain": [
       "<Figure size 864x576 with 1 Axes>"
      ]
     },
     "metadata": {
      "needs_background": "light"
     },
     "output_type": "display_data"
    }
   ],
   "source": [
    "mobile_cr = df_mobile.value_counts()[1] / (df_mobile.value_counts()[1] + df_mobile.value_counts()[0]) * 100\n",
    "desktop_cr = df_desktop.value_counts()[1] / (df_desktop.value_counts()[1] + df_desktop.value_counts()[0]) * 100\n",
    "\n",
    "fig,ax = plt.subplots(figsize=(12,8))\n",
    "ax.bar(['desktop', 'mobile'], [desktop_cr, mobile_cr], color='green')\n",
    "ax.set_title('Конверсия по типу привлечения трафика')\n",
    "ax.set_ylabel('Конверсия')"
   ]
  },
  {
   "attachments": {},
   "cell_type": "markdown",
   "id": "172f50a5",
   "metadata": {},
   "source": [
    "**Нулевая гипотеза**: Трафик из городов присутствия (Москва и область, Санкт-Петербург) не отличается от трафика из иных регионов с точки зрения CR (Conversion Rate) в целевые события\n",
    "\n",
    "**Альтернативная гипотеза**: Трафик из городов присутствия (Москва и область, Санкт-Петербург) отличается от трафика из иных регионов с точки зрения CR"
   ]
  },
  {
   "cell_type": "code",
   "execution_count": 55,
   "id": "2aeb1981",
   "metadata": {},
   "outputs": [],
   "source": [
    "df_capital = df.loc[df['geo_city'].eq('Moscow') \n",
    "                  | df['geo_city'].eq('Saint Petersburg'),\n",
    "                                    'target_action'].to_frame()\n",
    "\n",
    "df_others = df.loc[df['geo_city'].ne('Moscow') \n",
    "                  | df['geo_city'].ne('Saint Petersburg'),\n",
    "                                    'target_action'].to_frame()"
   ]
  },
  {
   "cell_type": "code",
   "execution_count": 56,
   "id": "acade358",
   "metadata": {},
   "outputs": [
    {
     "name": "stdout",
     "output_type": "stream",
     "text": [
      "Проверка на нормальность распределения\n",
      "ShapiroResult(statistic=0.16340959072113037, pvalue=0.0)\n",
      "ShapiroResult(statistic=0.1463218331336975, pvalue=0.0)\n",
      "Проверка гипотезы\n",
      "MannwhitneyuResult(statistic=892268486766.0, pvalue=0.24395631292459907)\n"
     ]
    }
   ],
   "source": [
    "print('Проверка на нормальность распределения')\n",
    "print(stats.shapiro(df_capital.sample(n=5000).target_action))\n",
    "print(stats.shapiro(df_others.sample(n=5000).target_action))\n",
    "\n",
    "# Распределение не нормальное\n",
    "# Выборки независимы\n",
    "# Используем критерий Манна-Уитни для проверки гипотезы\n",
    "\n",
    "print('Проверка гипотезы')\n",
    "print(stats.mannwhitneyu(df_capital.target_action, df_others.target_action))"
   ]
  },
  {
   "attachments": {},
   "cell_type": "markdown",
   "id": "dd5b1e5f",
   "metadata": {},
   "source": [
    "Различия в оценках между видами трафика не являются статистически значимыми (нулевая гипотеза)"
   ]
  },
  {
   "cell_type": "code",
   "execution_count": 57,
   "id": "873151af",
   "metadata": {},
   "outputs": [
    {
     "data": {
      "text/plain": [
       "Text(0, 0.5, 'Конверсия')"
      ]
     },
     "execution_count": 57,
     "metadata": {},
     "output_type": "execute_result"
    },
    {
     "data": {
      "image/png": "[encoded data removed]",
      "text/plain": [
       "<Figure size 864x576 with 1 Axes>"
      ]
     },
     "metadata": {
      "needs_background": "light"
     },
     "output_type": "display_data"
    }
   ],
   "source": [
    "capital_cr = df_capital.value_counts()[1] / (df_capital.value_counts()[1] + df_capital.value_counts()[0]) * 100\n",
    "others_cr = df_others.value_counts()[1] / (df_others.value_counts()[1] + df_others.value_counts()[0]) * 100\n",
    "\n",
    "fig,ax = plt.subplots(figsize=(12,8))\n",
    "ax.bar(['capital', 'others'], [capital_cr, others_cr], color='green')\n",
    "ax.set_title('Конверсия по типу привлечения трафика')\n",
    "ax.set_ylabel('Конверсия')"
   ]
  },
  {
   "attachments": {},
   "cell_type": "markdown",
   "id": "b320f39f",
   "metadata": {},
   "source": [
    "## Answers to the questions of the product team"
   ]
  },
  {
   "attachments": {},
   "cell_type": "markdown",
   "id": "b1e2c966",
   "metadata": {},
   "source": [
    "Из каких источников, кампаний, устройств, локаций к нам идёт самый целевой трафик (и с точки зрения объёма трафика, и с точки зрения CR)?"
   ]
  },
  {
   "cell_type": "code",
   "execution_count": 59,
   "id": "f751e30a",
   "metadata": {
    "scrolled": true
   },
   "outputs": [
    {
     "data": {
      "text/plain": [
       "LTuZkdKfxRGVceoWkVyg    19006\n",
       "LEoPHuyFvzoNfnzGgfcd     9348\n",
       "gecBYcKZCPMcVYdSSzKP     4545\n",
       "FTjNLDyTrXaWYgZymFkV     2447\n",
       "sbJRYgVfvcnqKJNDDYIr      575\n",
       "XHNUiSKKGTEpSAlaVMFQ      401\n",
       "SgIUDYUKnyWHVowUOqid      373\n",
       "LwJZxKuWmvOhPsaCeRjG      285\n",
       "zxoiLxhuSIFrCeTLQVWZ      270\n",
       "eimRuUrNhZLAYcwRrNXu      258\n",
       "YCKgTzTDywjcWyQudGch      235\n",
       "nSReTmyFtbSjlPrTKoaX      232\n",
       "RoDitORHdzGfGhNCyEMy      204\n",
       "hkvDVxqLOzGjGaoNiNzN      184\n",
       "jqlUOdZBNZYfInQVcZlS      178\n",
       "bJJuEXRheRIxXEaYIXqM      175\n",
       "DsqwamlMwRgMTyspCjFR      172\n",
       "YDIkQmcjRkpdxGbLLtNN      161\n",
       "MXqmDyetMTICSSitTjWV      157\n",
       "QdLfySaGXolfTBSNVfHn      151\n",
       "Name: utm_campaign, dtype: int64"
      ]
     },
     "execution_count": 59,
     "metadata": {},
     "output_type": "execute_result"
    }
   ],
   "source": [
    "#1 Самый целевой трафик по объему\n",
    "\n",
    "# Кампании\n",
    "\n",
    "df.utm_campaign[df['target_action'] == 1].value_counts().nlargest(20)"
   ]
  },
  {
   "cell_type": "code",
   "execution_count": 60,
   "id": "74949741",
   "metadata": {},
   "outputs": [
    {
     "data": {
      "text/plain": [
       "Apple        14467\n",
       "Samsung      10054\n",
       "Xiaomi        6592\n",
       "Huawei        4519\n",
       "Realme         421\n",
       "OPPO           396\n",
       "Vivo           322\n",
       "Nokia          165\n",
       "OnePlus        157\n",
       "Sony           150\n",
       "ZTE            149\n",
       "Asus           144\n",
       "Google         113\n",
       "Tecno           83\n",
       "Meizu           74\n",
       "Lenovo          68\n",
       "Blackview       68\n",
       "LG              51\n",
       "Motorola        47\n",
       "BQ              41\n",
       "Name: device_brand, dtype: int64"
      ]
     },
     "execution_count": 60,
     "metadata": {},
     "output_type": "execute_result"
    }
   ],
   "source": [
    "# Устройства\n",
    "\n",
    "# Бренд\n",
    "\n",
    "df.device_brand[(df['target_action'] == 1) & (df.device_brand != '(not set)')].value_counts().nlargest(20)"
   ]
  },
  {
   "cell_type": "code",
   "execution_count": 84,
   "id": "5c7eca81",
   "metadata": {},
   "outputs": [
    {
     "data": {
      "text/plain": [
       "Text(0, 0.5, 'Количество целевых действий')"
      ]
     },
     "execution_count": 84,
     "metadata": {},
     "output_type": "execute_result"
    },
    {
     "data": {
      "image/png": "[encoded data removed]",
      "text/plain": [
       "<Figure size 864x576 with 1 Axes>"
      ]
     },
     "metadata": {
      "needs_background": "light"
     },
     "output_type": "display_data"
    }
   ],
   "source": [
    "df_device_brand = df.device_brand[(df['target_action'] == 1) & (df.device_brand != '(not set)')].value_counts()\n",
    "df_device_brand = df_device_brand.iloc[0:10]\n",
    "df_device_brand =  df_device_brand.reset_index()\n",
    "df_device_brand.rename(columns = {'index': 'device_brand', 'device_brand': 'target_actions'}, inplace = True)\n",
    "\n",
    "fig,ax = plt.subplots(figsize=(12,8))\n",
    "ax.bar(df_device_brand['device_brand'], df_device_brand['target_actions'], color='green')\n",
    "ax.set_title('Распределение целевых действий по бренду устройства (топ-10)')\n",
    "ax.set_ylabel('Количество целевых действий')"
   ]
  },
  {
   "cell_type": "code",
   "execution_count": 62,
   "id": "9d293c2c",
   "metadata": {},
   "outputs": [
    {
     "data": {
      "text/plain": [
       "mobile     38379\n",
       "desktop    11513\n",
       "tablet       422\n",
       "Name: device_category, dtype: int64"
      ]
     },
     "execution_count": 62,
     "metadata": {},
     "output_type": "execute_result"
    }
   ],
   "source": [
    "# Категория\n",
    "\n",
    "df.device_category[df['target_action'] == 1].value_counts().nlargest(20)"
   ]
  },
  {
   "cell_type": "code",
   "execution_count": 85,
   "id": "6ab1a1a2",
   "metadata": {},
   "outputs": [
    {
     "data": {
      "text/plain": [
       "Text(0, 0.5, 'Количество целевых действий')"
      ]
     },
     "execution_count": 85,
     "metadata": {},
     "output_type": "execute_result"
    },
    {
     "data": {
      "image/png": "[encoded data removed]",
      "text/plain": [
       "<Figure size 864x576 with 1 Axes>"
      ]
     },
     "metadata": {
      "needs_background": "light"
     },
     "output_type": "display_data"
    }
   ],
   "source": [
    "df_device_category = df.device_category[df['target_action'] == 1].value_counts()\n",
    "df_device_category =  df_device_category.reset_index()\n",
    "df_device_category.rename(columns = {'index': 'device_category', 'device_category': 'target_actions'}, inplace = True)\n",
    "\n",
    "fig,ax = plt.subplots(figsize=(12,8))\n",
    "ax.bar(df_device_category['device_category'], df_device_category['target_actions'], color='green')\n",
    "ax.set_title('Распределение целевых действий по категории устройства')\n",
    "ax.set_ylabel('Количество целевых действий')"
   ]
  },
  {
   "cell_type": "code",
   "execution_count": 64,
   "id": "476879f0",
   "metadata": {},
   "outputs": [
    {
     "data": {
      "text/plain": [
       "Moscow              23629\n",
       "Saint Petersburg     7113\n",
       "Kazan                1139\n",
       "Krasnodar            1081\n",
       "Yekaterinburg         887\n",
       "Samara                727\n",
       "Ufa                   639\n",
       "Nizhny Novgorod       559\n",
       "Novosibirsk           509\n",
       "Tula                  438\n",
       "Grozny                401\n",
       "Rostov-on-Don         397\n",
       "Chelyabinsk           397\n",
       "Krasnoyarsk           376\n",
       "Balashikha            359\n",
       "Irkutsk               327\n",
       "Sochi                 316\n",
       "Voronezh              282\n",
       "Domodedovo            263\n",
       "Vladivostok           249\n",
       "Name: geo_city, dtype: int64"
      ]
     },
     "execution_count": 64,
     "metadata": {},
     "output_type": "execute_result"
    }
   ],
   "source": [
    "# Локации\n",
    "\n",
    "df.geo_city[(df['target_action'] == 1) & (df.geo_city != '(not set)')].value_counts().nlargest(20)"
   ]
  },
  {
   "cell_type": "code",
   "execution_count": 86,
   "id": "4683210e",
   "metadata": {},
   "outputs": [
    {
     "data": {
      "text/plain": [
       "Text(0, 0.5, 'Количество целевых действий')"
      ]
     },
     "execution_count": 86,
     "metadata": {},
     "output_type": "execute_result"
    },
    {
     "data": {
      "image/png": "[encoded data removed]",
      "text/plain": [
       "<Figure size 864x576 with 1 Axes>"
      ]
     },
     "metadata": {
      "needs_background": "light"
     },
     "output_type": "display_data"
    }
   ],
   "source": [
    "df_geo_city = df.geo_city[(df['target_action'] == 1) & (df.geo_city != '(not set)')].value_counts()\n",
    "df_geo_city = df_geo_city.iloc[0:10]\n",
    "df_geo_city =  df_geo_city.reset_index()\n",
    "df_geo_city.rename(columns = {'index': 'geo_city', 'geo_city': 'target_actions'}, inplace = True)\n",
    "\n",
    "fig,ax = plt.subplots(figsize=(12,8))\n",
    "fig.autofmt_xdate(rotation=45)\n",
    "ax.bar(df_geo_city['geo_city'], df_geo_city['target_actions'], color='green')\n",
    "ax.set_title('Распределение целевых действий по городам (топ-10)')\n",
    "ax.set_ylabel('Количество целевых действий')"
   ]
  },
  {
   "cell_type": "code",
   "execution_count": 66,
   "id": "4e4aae96",
   "metadata": {},
   "outputs": [
    {
     "data": {
      "text/plain": [
       "LTuZkdKfxRGVceoWkVyg    4.493229\n",
       "gecBYcKZCPMcVYdSSzKP    3.410959\n",
       "eimRuUrNhZLAYcwRrNXu    3.340238\n",
       "LEoPHuyFvzoNfnzGgfcd    2.909557\n",
       "sbJRYgVfvcnqKJNDDYIr    2.883362\n",
       "SgIUDYUKnyWHVowUOqid    2.363153\n",
       "zxoiLxhuSIFrCeTLQVWZ    2.206964\n",
       "LwJZxKuWmvOhPsaCeRjG    1.691796\n",
       "XHNUiSKKGTEpSAlaVMFQ    1.688421\n",
       "FTjNLDyTrXaWYgZymFkV    1.041498\n",
       "Name: utm_campaign, dtype: float64"
      ]
     },
     "execution_count": 66,
     "metadata": {},
     "output_type": "execute_result"
    }
   ],
   "source": [
    "#2 Самый целевой трафик с точки зрения CR\n",
    "\n",
    "# Кампании\n",
    "\n",
    "(df.utm_campaign[df['target_action'] == 1].value_counts().nlargest(10) / df.utm_campaign.value_counts()).nlargest(10)*100"
   ]
  },
  {
   "cell_type": "code",
   "execution_count": 67,
   "id": "fa0d143c",
   "metadata": {},
   "outputs": [
    {
     "data": {
      "text/plain": [
       "Samsung    3.226148\n",
       "OPPO       3.099804\n",
       "Vivo       2.920370\n",
       "Apple      2.873099\n",
       "Huawei     2.599696\n",
       "Sony       2.456600\n",
       "Xiaomi     2.448273\n",
       "Nokia      2.403846\n",
       "Realme     2.348544\n",
       "OnePlus    1.684188\n",
       "Name: device_brand, dtype: float64"
      ]
     },
     "execution_count": 67,
     "metadata": {},
     "output_type": "execute_result"
    }
   ],
   "source": [
    "# Устройства\n",
    "\n",
    "# Бренд\n",
    "(df.device_brand[(df['target_action'] == 1) & (df.device_brand != '(not set)')].value_counts().nlargest(10) \n",
    " / df.device_brand.value_counts()).nlargest(10)*100"
   ]
  },
  {
   "cell_type": "code",
   "execution_count": 87,
   "id": "4981a14b",
   "metadata": {},
   "outputs": [
    {
     "data": {
      "text/plain": [
       "Text(0, 0.5, 'Конверсия')"
      ]
     },
     "execution_count": 87,
     "metadata": {},
     "output_type": "execute_result"
    },
    {
     "data": {
      "image/png": "[encoded data removed]",
      "text/plain": [
       "<Figure size 864x576 with 1 Axes>"
      ]
     },
     "metadata": {
      "needs_background": "light"
     },
     "output_type": "display_data"
    }
   ],
   "source": [
    "df_device_brand_conv = (df.device_brand[(df['target_action'] == 1) \n",
    "                        & (df.device_brand != '(not set)')].value_counts().nlargest(10) \n",
    "                        / df.device_brand.value_counts()).nlargest(10)*100\n",
    "df_device_brand_conv =  df_device_brand_conv.reset_index()\n",
    "df_device_brand_conv.rename(columns = {'index': 'device_brand', 'device_brand': 'conversion'}, inplace = True)\n",
    "\n",
    "fig,ax = plt.subplots(figsize=(12,8))\n",
    "ax.bar(df_device_brand_conv['device_brand'], df_device_brand_conv['conversion'], color='green')\n",
    "ax.set_title('Распределение конверсии по бренду устройства (топ-10)')\n",
    "ax.set_ylabel('Конверсия')"
   ]
  },
  {
   "cell_type": "code",
   "execution_count": 69,
   "id": "be0884d9",
   "metadata": {},
   "outputs": [
    {
     "data": {
      "text/plain": [
       "desktop    3.318910\n",
       "mobile     2.804091\n",
       "tablet     2.527552\n",
       "Name: device_category, dtype: float64"
      ]
     },
     "execution_count": 69,
     "metadata": {},
     "output_type": "execute_result"
    }
   ],
   "source": [
    "# Категория\n",
    "(df.device_category[df['target_action'] == 1].value_counts() / df.device_category.value_counts()).nlargest(10)*100"
   ]
  },
  {
   "cell_type": "code",
   "execution_count": 88,
   "id": "adab0a40",
   "metadata": {},
   "outputs": [
    {
     "data": {
      "text/plain": [
       "Text(0, 0.5, 'Конверсия')"
      ]
     },
     "execution_count": 88,
     "metadata": {},
     "output_type": "execute_result"
    },
    {
     "data": {
      "image/png": "[encoded data removed]",
      "text/plain": [
       "<Figure size 864x576 with 1 Axes>"
      ]
     },
     "metadata": {
      "needs_background": "light"
     },
     "output_type": "display_data"
    }
   ],
   "source": [
    "df_device_category_conv = (df.device_category[df['target_action'] == 1].value_counts() \n",
    "                      / df.device_category.value_counts()).nlargest(10)*100\n",
    "df_device_category_conv =  df_device_category_conv.reset_index()\n",
    "df_device_category_conv.rename(columns = {'index': 'device_category', 'device_category': 'conversion'}, inplace = True)\n",
    "\n",
    "fig,ax = plt.subplots(figsize=(12,8))\n",
    "ax.bar(df_device_category_conv['device_category'], df_device_category_conv['conversion'], color='green')\n",
    "ax.set_title('Распределение конверсии по категории устройства')\n",
    "ax.set_ylabel('Конверсия')"
   ]
  },
  {
   "cell_type": "code",
   "execution_count": 71,
   "id": "20ac6d9e",
   "metadata": {
    "scrolled": true
   },
   "outputs": [
    {
     "data": {
      "text/plain": [
       "Kazan               4.113547\n",
       "Krasnodar           3.572373\n",
       "Ufa                 3.150422\n",
       "Moscow              3.146640\n",
       "Samara              3.102462\n",
       "Tula                2.964668\n",
       "Nizhny Novgorod     2.689828\n",
       "Yekaterinburg       2.643421\n",
       "Saint Petersburg    2.554939\n",
       "Novosibirsk         2.530450\n",
       "Name: geo_city, dtype: float64"
      ]
     },
     "execution_count": 71,
     "metadata": {},
     "output_type": "execute_result"
    }
   ],
   "source": [
    "# Локации\n",
    "\n",
    "(df.geo_city[(df['target_action'] == 1) & (df.geo_city != '(not set)')].value_counts().nlargest(10) \n",
    " / df.geo_city.value_counts()).nlargest(10)*100"
   ]
  },
  {
   "cell_type": "code",
   "execution_count": 89,
   "id": "d7a5b873",
   "metadata": {
    "scrolled": false
   },
   "outputs": [
    {
     "data": {
      "text/plain": [
       "Text(0, 0.5, 'Конверсия')"
      ]
     },
     "execution_count": 89,
     "metadata": {},
     "output_type": "execute_result"
    },
    {
     "data": {
      "image/png": "[encoded data removed]",
      "text/plain": [
       "<Figure size 864x576 with 1 Axes>"
      ]
     },
     "metadata": {
      "needs_background": "light"
     },
     "output_type": "display_data"
    }
   ],
   "source": [
    "df_geo_city_conv = (df.geo_city[(df['target_action'] == 1) \n",
    "                        & (df.geo_city != '(not set)')].value_counts().nlargest(10) \n",
    "                        / df.geo_city.value_counts()).nlargest(10)*100\n",
    "df_geo_city_conv =  df_geo_city_conv.reset_index()\n",
    "df_geo_city_conv.rename(columns = {'index': 'geo_city', 'geo_city': 'conversion'}, inplace = True)\n",
    "\n",
    "fig,ax = plt.subplots(figsize=(12,8))\n",
    "fig.autofmt_xdate(rotation=45)\n",
    "ax.bar(df_geo_city_conv['geo_city'], df_device_brand_conv['conversion'], color='green')\n",
    "ax.set_title('Распределение конверсии по городам (топ-10)')\n",
    "ax.set_ylabel('Конверсия')"
   ]
  },
  {
   "attachments": {},
   "cell_type": "markdown",
   "id": "d4201846",
   "metadata": {},
   "source": [
    "Какие авто пользуются наибольшим спросом? У каких авто самый лучший показатель CR (Conversion Rate) в целевые события?"
   ]
  },
  {
   "cell_type": "code",
   "execution_count": 74,
   "id": "61b08b17",
   "metadata": {},
   "outputs": [
    {
     "data": {
      "text/plain": [
       "skoda rapid                 1925\n",
       "lada-vaz vesta              1622\n",
       "volkswagen polo             1437\n",
       "skoda karoq                  487\n",
       "mercedes-benz e-klasse       436\n",
       "kia rio                      420\n",
       "toyota camry                 361\n",
       "renault logan                332\n",
       "nissan qashqai               322\n",
       "kia seltos                   298\n",
       "skoda octavia                273\n",
       "nissan x-trail               221\n",
       "kia sorento                  190\n",
       "renault duster               177\n",
       "haval jolion                 163\n",
       "mercedes-benz gla-klasse     107\n",
       "bmw 5-serii                  103\n",
       "volvo s90                    103\n",
       "volkswagen tiguan             98\n",
       "bmw x5                        97\n",
       "Name: model, dtype: int64"
      ]
     },
     "execution_count": 74,
     "metadata": {},
     "output_type": "execute_result"
    }
   ],
   "source": [
    "# Наибольший спрос\n",
    "\n",
    "df.model[(df['target_action'] == 1) & (df.model != 'other')].value_counts().nlargest(20)"
   ]
  },
  {
   "cell_type": "code",
   "execution_count": 90,
   "id": "2521566f",
   "metadata": {},
   "outputs": [
    {
     "data": {
      "text/plain": [
       "Text(0, 0.5, 'Количество целевых действий')"
      ]
     },
     "execution_count": 90,
     "metadata": {},
     "output_type": "execute_result"
    },
    {
     "data": {
      "image/png": "[encoded data removed]",
      "text/plain": [
       "<Figure size 864x576 with 1 Axes>"
      ]
     },
     "metadata": {
      "needs_background": "light"
     },
     "output_type": "display_data"
    }
   ],
   "source": [
    "df_model = df.model[(df['target_action'] == 1) & (df.model != 'other')].value_counts()\n",
    "df_model = df_model.iloc[0:10]\n",
    "df_model = df_model.reset_index()\n",
    "df_model.rename(columns = {'index': 'model', 'model': 'target_actions'}, inplace = True)\n",
    "\n",
    "fig,ax = plt.subplots(figsize=(12,8))\n",
    "fig.autofmt_xdate(rotation=45)\n",
    "ax.bar(df_model['model'], df_model['target_actions'], color='green')\n",
    "ax.set_title('Распределение целевых действий по модели автомобиля (топ-10)')\n",
    "ax.set_ylabel('Количество целевых действий')"
   ]
  },
  {
   "cell_type": "code",
   "execution_count": 76,
   "id": "44fb1546",
   "metadata": {},
   "outputs": [
    {
     "data": {
      "text/plain": [
       "toyota camry              9.239826\n",
       "kia rio                   8.199922\n",
       "kia seltos                7.730220\n",
       "volkswagen polo           7.330511\n",
       "renault logan             6.508528\n",
       "skoda rapid               6.079459\n",
       "lada-vaz vesta            5.976639\n",
       "skoda karoq               4.158839\n",
       "mercedes-benz e-klasse    3.054291\n",
       "nissan qashqai            2.919311\n",
       "Name: model, dtype: float64"
      ]
     },
     "execution_count": 76,
     "metadata": {},
     "output_type": "execute_result"
    }
   ],
   "source": [
    "# Conversion rate\n",
    "\n",
    "(df.model[(df['target_action'] == 1) & (df.model != 'other')].value_counts().nlargest(10) \n",
    " / df.model.value_counts()).nlargest(10)*100"
   ]
  },
  {
   "cell_type": "code",
   "execution_count": 91,
   "id": "377b50c8",
   "metadata": {},
   "outputs": [
    {
     "data": {
      "text/plain": [
       "Text(0, 0.5, 'Конверсия')"
      ]
     },
     "execution_count": 91,
     "metadata": {},
     "output_type": "execute_result"
    },
    {
     "data": {
      "image/png": "[encoded data removed]",
      "text/plain": [
       "<Figure size 864x576 with 1 Axes>"
      ]
     },
     "metadata": {
      "needs_background": "light"
     },
     "output_type": "display_data"
    }
   ],
   "source": [
    "df_model_conv = (df.model[(df['target_action'] == 1) \n",
    "                        & (df.model != 'other')].value_counts().nlargest(10) \n",
    "                        / df.model.value_counts()).nlargest(10)*100\n",
    "df_model_conv =  df_model_conv.reset_index()\n",
    "df_model_conv.rename(columns = {'index': 'model', 'model': 'conversion'}, inplace = True)\n",
    "\n",
    "fig,ax = plt.subplots(figsize=(12,8))\n",
    "fig.autofmt_xdate(rotation=45)\n",
    "ax.bar(df_model_conv['model'], df_model_conv['conversion'], color='green')\n",
    "ax.set_title('Распределение конверсии по модели автомобиля (топ-10)')\n",
    "ax.set_ylabel('Конверсия')"
   ]
  },
  {
   "attachments": {},
   "cell_type": "markdown",
   "id": "3d2b96fd",
   "metadata": {},
   "source": [
    "Стоит ли нам увеличивать своё присутствие в соцсетях и давать там больше рекламы?"
   ]
  },
  {
   "cell_type": "code",
   "execution_count": 79,
   "id": "282ee1f0",
   "metadata": {},
   "outputs": [],
   "source": [
    "df_source= df.loc[df['utm_source'].eq('QxAxdyPLuQMEcrdZWdWb') \n",
    "                | df['utm_source'].eq('MvfHsxITijuriZxsqZqt')\n",
    "                | df['utm_source'].eq('ISrKoXQCxqqYvAZICvjs')\n",
    "                | df['utm_source'].eq('IZEXUFLARCUMynmHNBGo')\n",
    "                | df['utm_source'].eq('PlbkrSYoHuZBWfYjYnfw')\n",
    "                | df['utm_source'].eq('gVRrcxiDQubJiljoTbGm'),\n",
    "                                    'target_action'].to_frame()"
   ]
  },
  {
   "cell_type": "code",
   "execution_count": 80,
   "id": "8fb1a5cc",
   "metadata": {},
   "outputs": [
    {
     "data": {
      "text/plain": [
       "0    252259\n",
       "1      4021\n",
       "Name: target_action, dtype: int64"
      ]
     },
     "execution_count": 80,
     "metadata": {},
     "output_type": "execute_result"
    }
   ],
   "source": [
    "df_source.target_action.value_counts()"
   ]
  },
  {
   "cell_type": "code",
   "execution_count": 81,
   "id": "5518adb9",
   "metadata": {},
   "outputs": [
    {
     "data": {
      "text/plain": [
       "1.5689870454190729"
      ]
     },
     "execution_count": 81,
     "metadata": {},
     "output_type": "execute_result"
    }
   ],
   "source": [
    "df_source.target_action.value_counts()[1] / (df_source.target_action.value_counts()[1] \n",
    "                                             + df_source.target_action.value_counts()[0]) * 100"
   ]
  },
  {
   "cell_type": "code",
   "execution_count": 82,
   "id": "adde2903",
   "metadata": {},
   "outputs": [
    {
     "data": {
      "text/plain": [
       "2.9045192828353152"
      ]
     },
     "execution_count": 82,
     "metadata": {},
     "output_type": "execute_result"
    }
   ],
   "source": [
    "df.target_action.value_counts()[1] / (df.target_action.value_counts()[1] \n",
    "                                             + df.target_action.value_counts()[0]) * 100"
   ]
  },
  {
   "cell_type": "code",
   "execution_count": 83,
   "id": "4581c08a",
   "metadata": {},
   "outputs": [
    {
     "data": {
      "text/plain": [
       "oZCzWSykfixnjMPDNjSU    10.058027\n",
       "BKeImrJuRDZcHiSSTdzm     7.340824\n",
       "aXQzDWsJuGXeBXexNHjc     6.187348\n",
       "bByPQxmDaMXgpHeypKSM     6.150117\n",
       "DnEUulZAecfGPvdtZBYS     5.483405\n",
       "fDLlAcSmythWSCVMvqvL     3.800982\n",
       "BHcvLfOaCWvWTykYqHVe     3.498463\n",
       "QxAxdyPLuQMEcrdZWdWb     3.101597\n",
       "gVRrcxiDQubJiljoTbGm     2.927186\n",
       "ZpYIoDJMcFzVoPFsHGJL     2.895784\n",
       "iNFgfQPqHPBuvGCYtrQE     2.855369\n",
       "kjsLglQLzykiRbcDiGcD     2.566707\n",
       "IZEXUFLARCUMynmHNBGo     2.306968\n",
       "ISrKoXQCxqqYvAZICvjs     1.798699\n",
       "nSReTmyFtbSjlPrTKoaX     1.788478\n",
       "jaSOmLICuBzCFqHfBdRg     1.417562\n",
       "MvfHsxITijuriZxsqZqt     1.279069\n",
       "hTjLvqNxGggkGnxSCaTm     1.229508\n",
       "RmEBuqrriAfAVsLQQmhk     0.507077\n",
       "vFcAhRxLfOWKhvxjELkx     0.403930\n",
       "Name: utm_source, dtype: float64"
      ]
     },
     "execution_count": 83,
     "metadata": {},
     "output_type": "execute_result"
    }
   ],
   "source": [
    "(df.utm_source[df['target_action'] == 1].value_counts().nlargest(20) / df.utm_source.value_counts()).nlargest(20)* 100"
   ]
  },
  {
   "attachments": {},
   "cell_type": "markdown",
   "id": "d0e0d2ae",
   "metadata": {},
   "source": [
    "Вывод: не стоит, т.к показатель конверсии из визита очень низкий (1.6%)"
   ]
  }
 ],
 "metadata": {
  "kernelspec": {
   "display_name": "Python 3.9.12 ('base')",
   "language": "python",
   "name": "python3"
  },
  "language_info": {
   "codemirror_mode": {
    "name": "ipython",
    "version": 3
   },
   "file_extension": ".py",
   "mimetype": "text/x-python",
   "name": "python",
   "nbconvert_exporter": "python",
   "pygments_lexer": "ipython3",
   "version": "3.9.12"
  },
  "vscode": {
   "interpreter": {
    "hash": "d06d41749b0c483e763699c8df38e0d443ca5c085ecabf5b94cd4425f7761cdb"
   }
  }
 },
 "nbformat": 4,
 "nbformat_minor": 5
}
